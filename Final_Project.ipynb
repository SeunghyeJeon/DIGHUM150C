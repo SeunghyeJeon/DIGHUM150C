{
 "cells": [
  {
   "cell_type": "markdown",
   "id": "247cf692-f0d6-4fd4-b5b1-5c95ab0b2cdb",
   "metadata": {},
   "source": [
    "### Seunghye Jeon DIGHUM 150C Final Project\n",
    "### Comparison of Katherine Mansfield's Stories with the Adjectives"
   ]
  },
  {
   "cell_type": "code",
   "execution_count": 1,
   "id": "55e24897-f272-43e3-9b1a-6403f6078190",
   "metadata": {},
   "outputs": [],
   "source": [
    "#import libraries here\n",
    "import nltk\n",
    "import matplotlib.pyplot as plt\n",
    "from collections import Counter\n",
    "import pandas as pd\n",
    "import numpy as np "
   ]
  },
  {
   "cell_type": "markdown",
   "id": "b0ea895b-0f79-4be2-9787-633e35adeb24",
   "metadata": {},
   "source": [
    "### Corpus for the final project"
   ]
  },
  {
   "cell_type": "code",
   "execution_count": 2,
   "id": "4fb6fdfc-4782-458c-a91c-346780579b05",
   "metadata": {},
   "outputs": [],
   "source": [
    "import requests\n",
    "response = requests.get('https://raw.githubusercontent.com/JonathanReeve/course-computational-literary-analysis-readings/66e9523f68a31107236f2c7d1e1791b9980468e7/content/texts/garden-party.md')\n",
    "garden_party = response.text"
   ]
  },
  {
   "cell_type": "code",
   "execution_count": 3,
   "id": "29479513-2ff7-48b5-9f11-224a550f38b8",
   "metadata": {},
   "outputs": [],
   "source": [
    "shortStories = {\n",
    "    \"The Garden Party\": [(\"And after all the weather was ideal.\", \"The Daughters of the Late Colonel\")],\n",
    "    \"The Daughters of the Late Colonel\": [(\"The week after was one of the busiest weeks of their lives.\", \"Mr. and Mrs. Dove\")],\n",
    "    \"The Young Girl\": [(\"In her blue dress, with her cheeks lightly flushed, her blue, blue eyes\", \"Life of Ma Parker\")],\n",
    "    \"Marriage a la Mode\": [(\"On his way to the station William remembered with a fresh pang\",\"The Voyage\")],\n",
    "    \"Her First Ball\": [(\"Exactly when the ball began Leila would have found it hard to say.\",\"The Singing Lesson\")],\n",
    "    \"An Ideal Family\": [(\"That evening for the first time in his life, as he pressed through\",\"The Lady’s Maid\")],\n",
    "}"
   ]
  },
  {
   "cell_type": "code",
   "execution_count": 4,
   "id": "5c711ff5-2ada-4f99-a246-353655bbc640",
   "metadata": {},
   "outputs": [],
   "source": [
    "mansfieldStories = {}\n",
    "for story in shortStories:\n",
    "    for interval in shortStories[story]:\n",
    "        start = garden_party.find(interval[0])\n",
    "        end = garden_party.find(interval[1])\n",
    "        if story not in mansfieldStories:\n",
    "            mansfieldStories[story] = garden_party[start:end]\n",
    "        else:\n",
    "            mansfieldStories[story] += garden_party[start:end]"
   ]
  },
  {
   "cell_type": "code",
   "execution_count": 5,
   "id": "7f5e0e8a-1c21-4028-90e4-063f7cd3cb23",
   "metadata": {},
   "outputs": [
    {
     "data": {
      "text/plain": [
       "{'The Garden Party': 'And after all the weather was ideal. They could not have had a more\\nperfect day for a garden-party i',\n",
       " 'The Daughters of the Late Colonel': 'The week after was one of the busiest weeks of their lives. Even when\\nthey went to bed it was only t',\n",
       " 'The Young Girl': 'In her blue dress, with her cheeks lightly flushed, her blue, blue eyes,\\nand her gold curls pinned u',\n",
       " 'Marriage a la Mode': 'On his way to the station William remembered with a fresh pang of\\ndisappointment that he was taking ',\n",
       " 'Her First Ball': 'Exactly when the ball began Leila would have found it hard to say.\\nPerhaps her first real partner wa',\n",
       " 'An Ideal Family': 'That evening for the first time in his life, as he pressed through the\\nswing door and descended the '}"
      ]
     },
     "execution_count": 5,
     "metadata": {},
     "output_type": "execute_result"
    }
   ],
   "source": [
    "{stories: text[:100] for stories, text in mansfieldStories.items()}"
   ]
  },
  {
   "cell_type": "markdown",
   "id": "ddd23c34-f05b-4efe-9da1-1a636e17acd1",
   "metadata": {},
   "source": [
    "For the final project, I would like to compare Katherine Mansfield’s Short Stories mainly focusing on the adjectives used in the stories."
   ]
  },
  {
   "cell_type": "markdown",
   "id": "c2c8d61c-dca7-4166-919d-18e51fea6bcd",
   "metadata": {},
   "source": [
    "### The length, in words, of each text in the corpus"
   ]
  },
  {
   "cell_type": "code",
   "execution_count": 6,
   "id": "7bbd1ee6-58d4-44c9-8da8-7b9fc119cabc",
   "metadata": {},
   "outputs": [],
   "source": [
    "def textLength(text):\n",
    "    textTokenized = nltk.word_tokenize(text)\n",
    "    length = len(textTokenized)\n",
    "    return length"
   ]
  },
  {
   "cell_type": "code",
   "execution_count": 7,
   "id": "50eac11d-bccc-4afe-a22c-eb823604d042",
   "metadata": {},
   "outputs": [],
   "source": [
    "len_dict = {stories: textLength(text) for stories, text in mansfieldStories.items()}"
   ]
  },
  {
   "cell_type": "code",
   "execution_count": 8,
   "id": "e8a1d79b-60b0-4a46-87f9-ab1e96b68e39",
   "metadata": {},
   "outputs": [
    {
     "data": {
      "text/plain": [
       "<BarContainer object of 6 artists>"
      ]
     },
     "execution_count": 8,
     "metadata": {},
     "output_type": "execute_result"
    },
    {
     "data": {
      "image/png": "[encoded data removed]",
      "text/plain": [
       "<Figure size 432x288 with 1 Axes>"
      ]
     },
     "metadata": {
      "needs_background": "light"
     },
     "output_type": "display_data"
    }
   ],
   "source": [
    "stories = list(len_dict.keys())\n",
    "lengths = list(len_dict.values())\n",
    "plt.barh(stories,lengths)"
   ]
  },
  {
   "cell_type": "markdown",
   "id": "4cf18bb8-a3fe-40c2-9122-a0ea008612f7",
   "metadata": {},
   "source": [
    "Among Katherine Mansfield’s short stories, I chose 6 of them which we annotated in class. Those are ‘The Garden Party,’ ‘The Daughters of the Late Colonel,’ ‘The Young Girl,’ ‘Marriage a la Mode,’ ‘Her First Ball,’ and ‘An Ideal Family.’\n",
    "I first compared the length of the corpus. The Garden Party has 6987 words, The Daughters of the Late Colonel has 9124 words, The Young Girl has 2850 words, Marriage a la Mode has 4998 words, Her First Ball has 3178 words, and An Ideal Family has 3178 words.\n",
    "The shortest text is The Young Girl with 2850 words and the longest text is The Daughters of the Late Colonel with 9124 words.\n",
    "Since each story has different length, I thought this can affect the analysis for example when I count how many times certain words appear in the text. This is because if the text itself is longer, there is a higher chance that the certain words could appear. Therefore, to avoid this kind of situation, I used the proportion of the word instead of the raw count to reduce the effect that can happen due to the length difference of the text."
   ]
  },
  {
   "cell_type": "markdown",
   "id": "0d3939aa-bc8a-4833-8a43-672a55525899",
   "metadata": {},
   "source": [
    "### Frequency of adjectives / Frequency of Superlatives + Noun"
   ]
  },
  {
   "cell_type": "code",
   "execution_count": 9,
   "id": "5fb003b7-0642-4bd4-a50d-619ecdfaa4dc",
   "metadata": {},
   "outputs": [
    {
     "data": {
      "text/plain": [
       "{'The Garden Party': 0.06039788178044941,\n",
       " 'The Daughters of the Late Colonel': 0.1035843472541927,\n",
       " 'The Young Girl': 0.39473684210526316,\n",
       " 'Marriage a la Mode': 0.2939175670268107,\n",
       " 'Her First Ball': 0.5412208936438011,\n",
       " 'An Ideal Family': 0.35866416766058956}"
      ]
     },
     "execution_count": 9,
     "metadata": {},
     "output_type": "execute_result"
    }
   ],
   "source": [
    "adj_proportion = {}\n",
    "\n",
    "def get_adjectives(text):\n",
    "    adjectives = []\n",
    "    tokens = nltk.word_tokenize(text.lower())\n",
    "    tags = nltk.pos_tag(tokens)\n",
    "    for i in enumerate(tags):\n",
    "        if \"JJ\" in i[1][1]:\n",
    "            adjectives.append(i[1])\n",
    "    return(len(adjectives)/len(tokens))\n",
    "\n",
    "for story in mansfieldStories:\n",
    "    adj_proportion[story] = get_adjectives(mansfieldStories[story])\n",
    "\n",
    "adj_proportion"
   ]
  },
  {
   "cell_type": "code",
   "execution_count": 10,
   "id": "a661909f-09cf-4b8a-89b6-7d636536eef2",
   "metadata": {},
   "outputs": [
    {
     "data": {
      "text/plain": [
       "<BarContainer object of 6 artists>"
      ]
     },
     "execution_count": 10,
     "metadata": {},
     "output_type": "execute_result"
    },
    {
     "data": {
      "image/png": "[encoded data removed]",
      "text/plain": [
       "<Figure size 432x288 with 1 Axes>"
      ]
     },
     "metadata": {
      "needs_background": "light"
     },
     "output_type": "display_data"
    }
   ],
   "source": [
    "stories = list(adj_proportion.keys())\n",
    "adjs = list(adj_proportion.values())\n",
    "plt.barh(stories,adjs)"
   ]
  },
  {
   "cell_type": "code",
   "execution_count": 11,
   "id": "2a39f01e-24de-4486-b906-86821e8f7ec7",
   "metadata": {},
   "outputs": [
    {
     "data": {
      "text/plain": [
       "{'The Garden Party': 0.00042936882782310007,\n",
       " 'The Daughters of the Late Colonel': 0.0,\n",
       " 'The Young Girl': 0.0,\n",
       " 'Marriage a la Mode': 0.0006002400960384153,\n",
       " 'Her First Ball': 0.00031466331025802394,\n",
       " 'An Ideal Family': 0.0001703867779860283}"
      ]
     },
     "execution_count": 11,
     "metadata": {},
     "output_type": "execute_result"
    }
   ],
   "source": [
    "superlative_proportion = {}\n",
    "\n",
    "def get_superlatives(text):\n",
    "    superlatives = []\n",
    "    tokens = nltk.word_tokenize(text.lower())\n",
    "    tags = nltk.pos_tag(tokens)\n",
    "    for i, wordTagPair in enumerate(tags):\n",
    "        if i == len(tags) - 2:\n",
    "            break\n",
    "        word, tag = wordTagPair\n",
    "        nextWord, nextTag = tags[i+1]\n",
    "        if tag == \"JJS\":\n",
    "            if nextTag == \"NN\":\n",
    "                superlatives.append([word, nextWord])\n",
    "    return(len(superlatives)/len(tokens))\n",
    "\n",
    "for story in mansfieldStories:\n",
    "    superlative_proportion[story] = get_superlatives(mansfieldStories[story])\n",
    "\n",
    "superlative_proportion"
   ]
  },
  {
   "cell_type": "code",
   "execution_count": 12,
   "id": "dafaa8af-1c4e-4af6-adcf-733b75c8ddfa",
   "metadata": {},
   "outputs": [
    {
     "data": {
      "text/plain": [
       "<BarContainer object of 6 artists>"
      ]
     },
     "execution_count": 12,
     "metadata": {},
     "output_type": "execute_result"
    },
    {
     "data": {
      "image/png": "[encoded data removed]",
      "text/plain": [
       "<Figure size 432x288 with 1 Axes>"
      ]
     },
     "metadata": {
      "needs_background": "light"
     },
     "output_type": "display_data"
    }
   ],
   "source": [
    "stories = list(superlative_proportion.keys())\n",
    "sups = list(superlative_proportion.values())\n",
    "plt.barh(stories,sups,color='orange')"
   ]
  },
  {
   "cell_type": "code",
   "execution_count": 13,
   "id": "8651a4a9-3fcd-4fc8-900d-df8b22460315",
   "metadata": {},
   "outputs": [
    {
     "data": {
      "text/plain": [
       "([0.06039788178044941,\n",
       "  0.1035843472541927,\n",
       "  0.39473684210526316,\n",
       "  0.2939175670268107,\n",
       "  0.5412208936438011,\n",
       "  0.35866416766058956],\n",
       " [0.00042936882782310007,\n",
       "  0.0,\n",
       "  0.0,\n",
       "  0.0006002400960384153,\n",
       "  0.00031466331025802394,\n",
       "  0.0001703867779860283])"
      ]
     },
     "execution_count": 13,
     "metadata": {},
     "output_type": "execute_result"
    }
   ],
   "source": [
    "adjs = list(adj_proportion.values())\n",
    "sups = list(superlative_proportion.values())\n",
    "adjs, sups"
   ]
  },
  {
   "cell_type": "code",
   "execution_count": 14,
   "id": "b4291aa8-06e8-4338-8ceb-45a9e7cb31c2",
   "metadata": {},
   "outputs": [
    {
     "data": {
      "image/png": "[encoded data removed]",
      "text/plain": [
       "<Figure size 936x288 with 1 Axes>"
      ]
     },
     "metadata": {
      "needs_background": "light"
     },
     "output_type": "display_data"
    }
   ],
   "source": [
    "stories = ['The Garden Party', 'The Daughters of the Late Colonel', 'The Young Girl', 'Marriage a la Mode', 'Her First Ball', 'An Ideal Family']\n",
    "adjs = list(adj_proportion.values())\n",
    "sups = list(superlative_proportion.values())\n",
    "df = pd.DataFrame({'adjectives':adjs,'superlative + noun':sups}, index=stories)\n",
    "ax = df.plot.barh(figsize=(13,4))"
   ]
  },
  {
   "cell_type": "markdown",
   "id": "0d637bde-30ca-4a05-bd29-58fb64cdaac2",
   "metadata": {},
   "source": [
    "I compared the proportion of different Part Of Speech tagging since I thought this could well indicate the characteristics of the stories. First, I compared the proportion of adjectives. ‘Her First Ball’ had the highest proportion of the adjectives and ‘The Daughters of the Late Colonel’ had the lowest proportion of the adjectives. Since adjectives are the descriptive words, we can identify that in the story ‘Her First Ball,’ there are many descriptions that Leila’s nervousness and awkwardness in her adolescence. Mansfield illustrated the Leila’s perspective very realistic using many adjectives. The Young Girl had the second highest adjective proportion. However, 'The Young Girl' was one of the stories that did not contain the combination of superlative adjectives and noun at all. This story was relatively less descriptive since there was no detailed description of the characters or settings in the story. 'The Young Girl' showed that the high adjective proportion does not always indicates that the story is highly descriptive."
   ]
  },
  {
   "cell_type": "markdown",
   "id": "43fa9d56-d345-4c84-bb6d-5e087bd7ab9d",
   "metadata": {},
   "source": [
    "### Frequency of pronouns"
   ]
  },
  {
   "cell_type": "code",
   "execution_count": 15,
   "id": "b1e624ac-f2e5-4ca6-a867-c8264dc72c02",
   "metadata": {},
   "outputs": [
    {
     "data": {
      "text/plain": [
       "{'The Garden Party': 0.08630313439244311,\n",
       " 'The Daughters of the Late Colonel': 0.08834813109722679,\n",
       " 'The Young Girl': 0.10210526315789474,\n",
       " 'Marriage a la Mode': 0.0784313725490196,\n",
       " 'Her First Ball': 0.08338577721837634,\n",
       " 'An Ideal Family': 0.09729085023002215}"
      ]
     },
     "execution_count": 15,
     "metadata": {},
     "output_type": "execute_result"
    }
   ],
   "source": [
    "pronoun_proportion = {}\n",
    "\n",
    "def get_pronouns(text):\n",
    "    pronouns = []\n",
    "    tokens = nltk.word_tokenize(text.lower())\n",
    "    tags = nltk.pos_tag(tokens)\n",
    "    for i in enumerate(tags):\n",
    "        if \"PRP\" in i[1][1]:\n",
    "            pronouns.append(i[1])\n",
    "    return(len(pronouns)/len(tokens) )\n",
    "\n",
    "for story in mansfieldStories:\n",
    "    pronoun_proportion[story] = get_pronouns(mansfieldStories[story])\n",
    "\n",
    "pronoun_proportion"
   ]
  },
  {
   "cell_type": "code",
   "execution_count": 16,
   "id": "267ce78e-d512-43e9-9422-0d07785eebab",
   "metadata": {},
   "outputs": [
    {
     "data": {
      "text/plain": [
       "<BarContainer object of 6 artists>"
      ]
     },
     "execution_count": 16,
     "metadata": {},
     "output_type": "execute_result"
    },
    {
     "data": {
      "image/png": "[encoded data removed]",
      "text/plain": [
       "<Figure size 432x288 with 1 Axes>"
      ]
     },
     "metadata": {
      "needs_background": "light"
     },
     "output_type": "display_data"
    }
   ],
   "source": [
    "stories = list(pronoun_proportion.keys())\n",
    "prps = list(pronoun_proportion.values())\n",
    "plt.barh(stories,prps,color='green')"
   ]
  },
  {
   "cell_type": "markdown",
   "id": "e06a6522-e980-4fc4-8f6b-d7b726c6fc18",
   "metadata": {},
   "source": [
    "For the proportion of pronouns, all of the stories had similar proportion. However, among them 'The Young Girl' had the highest proportion of the pronouns. This indicates that there’s less description of the characters since the narrator mentions the pronouns most of the time instead of the names of the characters."
   ]
  },
  {
   "cell_type": "markdown",
   "id": "7d0c6803-845e-4679-a9b3-5aa296bb7548",
   "metadata": {},
   "source": [
    "### Distinctive adjectives in each story"
   ]
  },
  {
   "cell_type": "code",
   "execution_count": 34,
   "id": "fd4d12ab-112b-4928-ab85-468c8db03616",
   "metadata": {},
   "outputs": [],
   "source": [
    "def freq_adjectives(text):\n",
    "    adjectives = []\n",
    "    tokens = nltk.word_tokenize(text.lower())\n",
    "    tags = nltk.pos_tag(tokens)\n",
    "    for i in enumerate(tags):\n",
    "        if \"JJ\" in i[1][1]:\n",
    "            adjectives.append(i[1])\n",
    "    return adjectives"
   ]
  },
  {
   "cell_type": "code",
   "execution_count": 35,
   "id": "a4a49af4-d17d-4ebf-86d8-6299f0aeba0a",
   "metadata": {},
   "outputs": [
    {
     "data": {
      "text/plain": [
       "[(('i', 'JJ'), 29),\n",
       " (('little', 'JJ'), 25),\n",
       " (('good', 'JJ'), 9),\n",
       " (('big', 'JJ'), 8),\n",
       " (('dark', 'JJ'), 6),\n",
       " (('tall', 'JJ'), 5),\n",
       " (('last', 'JJ'), 5),\n",
       " (('such', 'JJ'), 5),\n",
       " (('young', 'JJ'), 5),\n",
       " (('dead', 'JJ'), 5),\n",
       " (('poor', 'JJ'), 5),\n",
       " (('green', 'JJ'), 4),\n",
       " (('right', 'JJ'), 4),\n",
       " (('miss', 'JJ'), 4),\n",
       " (('nice', 'JJ'), 4),\n",
       " (('small', 'JJ'), 4),\n",
       " (('same', 'JJ'), 4),\n",
       " (('extravagant', 'JJ'), 4),\n",
       " (('perfect', 'JJ'), 3),\n",
       " (('garden-party', 'JJ'), 3)]"
      ]
     },
     "execution_count": 35,
     "metadata": {},
     "output_type": "execute_result"
    }
   ],
   "source": [
    "Counter(freq_adjectives(mansfieldStories['The Garden Party'])).most_common(20)"
   ]
  },
  {
   "cell_type": "code",
   "execution_count": 36,
   "id": "d0e7c862-3ae1-4cfd-899e-01b4989b66e1",
   "metadata": {},
   "outputs": [
    {
     "data": {
      "text/plain": [
       "[(('i', 'JJ'), 41),\n",
       " (('little', 'JJ'), 14),\n",
       " (('other', 'JJ'), 12),\n",
       " (('black', 'JJ'), 10),\n",
       " (('nurse', 'JJ'), 10),\n",
       " (('dear', 'JJ'), 9),\n",
       " (('weak', 'JJ'), 9),\n",
       " (('auntie', 'JJ'), 9),\n",
       " (('much', 'JJ'), 8),\n",
       " (('good', 'JJ'), 8),\n",
       " (('last', 'JJ'), 8),\n",
       " (('nice', 'JJ'), 7),\n",
       " (('such', 'JJ'), 7),\n",
       " (('old', 'JJ'), 7),\n",
       " (('sure', 'JJ'), 6),\n",
       " (('more', 'JJR'), 6),\n",
       " (('long', 'JJ'), 6),\n",
       " (('pale', 'JJ'), 6),\n",
       " (('awful', 'JJ'), 5),\n",
       " (('least', 'JJS'), 5)]"
      ]
     },
     "execution_count": 36,
     "metadata": {},
     "output_type": "execute_result"
    }
   ],
   "source": [
    "Counter(freq_adjectives(mansfieldStories['The Daughters of the Late Colonel'])).most_common(20)"
   ]
  },
  {
   "cell_type": "code",
   "execution_count": 37,
   "id": "1874052b-208f-4437-86a8-895d856864b2",
   "metadata": {},
   "outputs": [
    {
     "data": {
      "text/plain": [
       "[(('i', 'JJ'), 26),\n",
       " (('little', 'JJ'), 14),\n",
       " (('blue', 'JJ'), 4),\n",
       " (('white', 'JJ'), 4),\n",
       " (('old', 'JJ'), 3),\n",
       " (('open', 'JJ'), 3),\n",
       " (('more', 'JJR'), 3),\n",
       " (('last', 'JJ'), 3),\n",
       " (('good', 'JJ'), 3),\n",
       " (('nice', 'JJ'), 3),\n",
       " (('first', 'JJ'), 2),\n",
       " (('sorry', 'JJ'), 2),\n",
       " (('black', 'JJ'), 2),\n",
       " (('mrs.', 'JJ'), 2),\n",
       " (('dreadful', 'JJ'), 2),\n",
       " (('same', 'JJ'), 2),\n",
       " (('-to', 'JJ'), 2),\n",
       " (('gold', 'JJ'), 2),\n",
       " (('poor', 'JJ'), 2),\n",
       " (('lovely', 'JJ'), 2)]"
      ]
     },
     "execution_count": 37,
     "metadata": {},
     "output_type": "execute_result"
    }
   ],
   "source": [
    "Counter(freq_adjectives(mansfieldStories['The Young Girl'])).most_common(20)"
   ]
  },
  {
   "cell_type": "code",
   "execution_count": 38,
   "id": "767687f6-1c05-4e3f-a643-87ad06ade5a3",
   "metadata": {},
   "outputs": [
    {
     "data": {
      "text/plain": [
       "[(('i', 'JJ'), 24),\n",
       " (('little', 'JJ'), 23),\n",
       " (('new', 'JJ'), 9),\n",
       " (('old', 'JJ'), 8),\n",
       " (('william', 'JJ'), 6),\n",
       " (('young', 'JJ'), 5),\n",
       " (('good', 'JJ'), 5),\n",
       " (('cool', 'JJ'), 5),\n",
       " (('same', 'JJ'), 4),\n",
       " (('open', 'JJ'), 4),\n",
       " (('isabel', 'JJ'), 4),\n",
       " (('other', 'JJ'), 4),\n",
       " (('fat', 'JJ'), 4),\n",
       " (('long', 'JJ'), 4),\n",
       " (('poor', 'JJ'), 3),\n",
       " (('last', 'JJ'), 3),\n",
       " (('dear', 'JJ'), 3),\n",
       " (('precious', 'JJ'), 3),\n",
       " (('loud', 'JJ'), 3),\n",
       " (('more', 'JJR'), 3)]"
      ]
     },
     "execution_count": 38,
     "metadata": {},
     "output_type": "execute_result"
    }
   ],
   "source": [
    "Counter(freq_adjectives(mansfieldStories['Marriage a la Mode'])).most_common(20)"
   ]
  },
  {
   "cell_type": "code",
   "execution_count": 39,
   "id": "2e85e3fd-e3b8-41cb-87cd-3dfb3223e255",
   "metadata": {},
   "outputs": [
    {
     "data": {
      "text/plain": [
       "[(('little', 'JJ'), 24),\n",
       " (('fat', 'JJ'), 14),\n",
       " (('i', 'JJ'), 11),\n",
       " (('dark', 'JJ'), 8),\n",
       " (('first', 'JJ'), 6),\n",
       " (('other', 'JJ'), 6),\n",
       " (('great', 'JJ'), 6),\n",
       " (('old', 'JJ'), 5),\n",
       " (('last', 'JJ'), 5),\n",
       " (('new', 'JJ'), 4),\n",
       " (('long', 'JJ'), 4),\n",
       " (('white', 'JJ'), 4),\n",
       " (('golden', 'JJ'), 4),\n",
       " (('hard', 'JJ'), 3),\n",
       " (('marvellous', 'JJ'), 3),\n",
       " (('big', 'JJ'), 3),\n",
       " (('strange', 'JJ'), 3),\n",
       " (('black', 'JJ'), 3),\n",
       " (('poor', 'JJ'), 3),\n",
       " (('sheridan', 'JJ'), 2)]"
      ]
     },
     "execution_count": 39,
     "metadata": {},
     "output_type": "execute_result"
    }
   ],
   "source": [
    "Counter(freq_adjectives(mansfieldStories['Her First Ball'])).most_common(20)"
   ]
  },
  {
   "cell_type": "code",
   "execution_count": 40,
   "id": "b0122867-fd89-40c1-aa42-c3ceebaaac07",
   "metadata": {},
   "outputs": [
    {
     "data": {
      "text/plain": [
       "[(('i', 'JJ'), 43),\n",
       " (('little', 'JJ'), 26),\n",
       " (('old', 'JJ'), 24),\n",
       " (('young', 'JJ'), 11),\n",
       " (('such', 'JJ'), 8),\n",
       " (('good', 'JJ'), 6),\n",
       " (('big', 'JJ'), 5),\n",
       " (('first', 'JJ'), 4),\n",
       " (('white', 'JJ'), 4),\n",
       " (('more', 'JJR'), 4),\n",
       " (('other', 'JJ'), 4),\n",
       " (('much', 'JJ'), 4),\n",
       " (('ideal', 'JJ'), 4),\n",
       " (('soft', 'JJ'), 4),\n",
       " (('last', 'JJ'), 4),\n",
       " (('oh', 'JJ'), 4),\n",
       " (('broad', 'JJ'), 3),\n",
       " (('gay', 'JJ'), 3),\n",
       " (('h', 'JJ'), 3),\n",
       " (('whole', 'JJ'), 3)]"
      ]
     },
     "execution_count": 40,
     "metadata": {},
     "output_type": "execute_result"
    }
   ],
   "source": [
    "Counter(freq_adjectives(mansfieldStories['An Ideal Family'])).most_common(20)"
   ]
  },
  {
   "cell_type": "markdown",
   "id": "966b21b2-25ca-4eb3-92cd-1909da2b1ea1",
   "metadata": {},
   "source": [
    "For more detailed comparison, I extracted the most frequent distinctive adjectives in each stories. In all six stories, there were many cases of complex moods, such as talking about dark subjects in a bright setting rather than just illustrating the single mood. Therefore, in the distribution of adjectives, there were many cases where a bright mood and a dark mood existed together. However, relatively positive adjectives such as good, new, cool, golden, and marvelous were used in the garden party, marriage a la mode, and her first ball. Conversely, negative adjectives such as weak, awful, black, blue, and dreadful were often used in The daughters of the late colonel and the young girl. In An Ideal Family, a lot of adjectives did not really contain positive or negative mood.\n",
    "Moreover, I could realize that many of the Mansfield's short stories contained the word 'old' and 'young' as on of their distinctive adjectives. 'The Garden Party' containes an adjective 'young' as one of its distinctive adjectives. 'The Garden Party' describes the mood of Laura, who is a young protagonist of this story. 'The Daughters of the Late Colonel,' 'The Young Girl,' and 'Her First Ball' contains 'old' as one of their distinctive adjectives. However, those three stories also focuses on the mood of the young protagonists. Therefore, to identify the exact context of the distinctive adjectives, I realized that we should closely read the whole sentence or paragraph that contains the word. 'Marriage a la Mode' and 'An Ideal Family' contained both 'young' and 'old' as their distinctive adjectives. Since all of the stories talks about the story of life and the important event or phase of the life, they all seem to contain the adjectives 'young' and 'old' which is closely related to age."
   ]
  },
  {
   "cell_type": "markdown",
   "id": "fb0526e4-435c-4daf-80a8-d6886ef313d5",
   "metadata": {},
   "source": [
    "As such, I compared how descriptive each story was through the adjectives, superlatives, and pronoun proportions using Part of Speech tagging and the mood of each story through distinctive adjectives. Although it was not possible to grasp every aspect of the story through this analysis, I think this can be one of the indicators for the comparative analysis of Mansfield’s short stories."
   ]
  },
  {
   "cell_type": "code",
   "execution_count": null,
   "id": "f0c8b00f-d4e4-4b95-9cab-4aadc0b0bff1",
   "metadata": {},
   "outputs": [],
   "source": []
  }
 ],
 "metadata": {
  "kernelspec": {
   "display_name": "Python 3 (ipykernel)",
   "language": "python",
   "name": "python3"
  },
  "language_info": {
   "codemirror_mode": {
    "name": "ipython",
    "version": 3
   },
   "file_extension": ".py",
   "mimetype": "text/x-python",
   "name": "python",
   "nbconvert_exporter": "python",
   "pygments_lexer": "ipython3",
   "version": "3.9.7"
  }
 },
 "nbformat": 4,
 "nbformat_minor": 5
}
